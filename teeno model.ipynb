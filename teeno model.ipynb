{
 "cells": [
  {
   "cell_type": "code",
   "execution_count": 1,
   "metadata": {},
   "outputs": [],
   "source": [
    "import matplotlib.pyplot as plt\n",
    "%matplotlib inline\n",
    "import pandas as pd\n",
    "import numpy as np"
   ]
  },
  {
   "cell_type": "code",
   "execution_count": 2,
   "metadata": {},
   "outputs": [],
   "source": [
    "from sklearn.datasets import make_regression"
   ]
  },
  {
   "cell_type": "code",
   "execution_count": 3,
   "metadata": {},
   "outputs": [
    {
     "data": {
      "text/plain": [
       "<function sklearn.datasets.samples_generator.make_regression(n_samples=100, n_features=100, n_informative=10, n_targets=1, bias=0.0, effective_rank=None, tail_strength=0.5, noise=0.0, shuffle=True, coef=False, random_state=None)>"
      ]
     },
     "execution_count": 3,
     "metadata": {},
     "output_type": "execute_result"
    }
   ],
   "source": [
    "make_regression"
   ]
  },
  {
   "cell_type": "code",
   "execution_count": 12,
   "metadata": {},
   "outputs": [],
   "source": [
    "n_samples=100\n",
    "n_features=6\n",
    "n_informative=3  ##number of features which create impact"
   ]
  },
  {
   "cell_type": "code",
   "execution_count": 13,
   "metadata": {},
   "outputs": [],
   "source": [
    "X, y,coef = make_regression(n_samples=n_samples, n_features=n_features, n_informative=n_informative,\n",
    "                       random_state=None, shuffle=False,noise=20,coef=True)"
   ]
  },
  {
   "cell_type": "code",
   "execution_count": 14,
   "metadata": {},
   "outputs": [
    {
     "data": {
      "text/html": [
       "<div>\n",
       "<style scoped>\n",
       "    .dataframe tbody tr th:only-of-type {\n",
       "        vertical-align: middle;\n",
       "    }\n",
       "\n",
       "    .dataframe tbody tr th {\n",
       "        vertical-align: top;\n",
       "    }\n",
       "\n",
       "    .dataframe thead th {\n",
       "        text-align: right;\n",
       "    }\n",
       "</style>\n",
       "<table border=\"1\" class=\"dataframe\">\n",
       "  <thead>\n",
       "    <tr style=\"text-align: right;\">\n",
       "      <th></th>\n",
       "      <th>X1</th>\n",
       "      <th>X2</th>\n",
       "      <th>X3</th>\n",
       "      <th>X4</th>\n",
       "      <th>X5</th>\n",
       "      <th>X6</th>\n",
       "      <th>y</th>\n",
       "    </tr>\n",
       "  </thead>\n",
       "  <tbody>\n",
       "    <tr>\n",
       "      <th>0</th>\n",
       "      <td>-1.281109</td>\n",
       "      <td>0.993148</td>\n",
       "      <td>1.366800</td>\n",
       "      <td>-0.356803</td>\n",
       "      <td>0.168237</td>\n",
       "      <td>0.052661</td>\n",
       "      <td>89.788019</td>\n",
       "    </tr>\n",
       "    <tr>\n",
       "      <th>1</th>\n",
       "      <td>-0.207338</td>\n",
       "      <td>-0.919710</td>\n",
       "      <td>-0.642328</td>\n",
       "      <td>-0.584108</td>\n",
       "      <td>0.988512</td>\n",
       "      <td>0.313223</td>\n",
       "      <td>-64.181419</td>\n",
       "    </tr>\n",
       "    <tr>\n",
       "      <th>2</th>\n",
       "      <td>-0.782923</td>\n",
       "      <td>0.395382</td>\n",
       "      <td>0.266205</td>\n",
       "      <td>1.197251</td>\n",
       "      <td>-0.807189</td>\n",
       "      <td>1.082074</td>\n",
       "      <td>16.739855</td>\n",
       "    </tr>\n",
       "    <tr>\n",
       "      <th>3</th>\n",
       "      <td>-0.550071</td>\n",
       "      <td>0.602770</td>\n",
       "      <td>0.466315</td>\n",
       "      <td>-0.119904</td>\n",
       "      <td>1.301265</td>\n",
       "      <td>1.103736</td>\n",
       "      <td>72.583063</td>\n",
       "    </tr>\n",
       "    <tr>\n",
       "      <th>4</th>\n",
       "      <td>0.454617</td>\n",
       "      <td>-0.004312</td>\n",
       "      <td>1.696612</td>\n",
       "      <td>0.037161</td>\n",
       "      <td>0.579574</td>\n",
       "      <td>1.335534</td>\n",
       "      <td>143.033364</td>\n",
       "    </tr>\n",
       "    <tr>\n",
       "      <th>5</th>\n",
       "      <td>-0.452999</td>\n",
       "      <td>1.327192</td>\n",
       "      <td>-0.453387</td>\n",
       "      <td>-0.758962</td>\n",
       "      <td>-0.864646</td>\n",
       "      <td>0.499903</td>\n",
       "      <td>11.776926</td>\n",
       "    </tr>\n",
       "    <tr>\n",
       "      <th>6</th>\n",
       "      <td>-1.163023</td>\n",
       "      <td>1.173077</td>\n",
       "      <td>-0.186156</td>\n",
       "      <td>0.538924</td>\n",
       "      <td>-1.393265</td>\n",
       "      <td>-0.317886</td>\n",
       "      <td>12.562676</td>\n",
       "    </tr>\n",
       "    <tr>\n",
       "      <th>7</th>\n",
       "      <td>-0.739787</td>\n",
       "      <td>0.954446</td>\n",
       "      <td>-0.233732</td>\n",
       "      <td>-0.067609</td>\n",
       "      <td>0.302844</td>\n",
       "      <td>1.129508</td>\n",
       "      <td>-27.044676</td>\n",
       "    </tr>\n",
       "    <tr>\n",
       "      <th>8</th>\n",
       "      <td>0.505565</td>\n",
       "      <td>-0.478507</td>\n",
       "      <td>-0.563205</td>\n",
       "      <td>0.258818</td>\n",
       "      <td>3.905243</td>\n",
       "      <td>0.194760</td>\n",
       "      <td>-33.723081</td>\n",
       "    </tr>\n",
       "    <tr>\n",
       "      <th>9</th>\n",
       "      <td>-0.431044</td>\n",
       "      <td>-0.391637</td>\n",
       "      <td>0.629764</td>\n",
       "      <td>0.246015</td>\n",
       "      <td>1.964799</td>\n",
       "      <td>-0.637464</td>\n",
       "      <td>6.674853</td>\n",
       "    </tr>\n",
       "  </tbody>\n",
       "</table>\n",
       "</div>"
      ],
      "text/plain": [
       "         X1        X2        X3        X4        X5        X6           y\n",
       "0 -1.281109  0.993148  1.366800 -0.356803  0.168237  0.052661   89.788019\n",
       "1 -0.207338 -0.919710 -0.642328 -0.584108  0.988512  0.313223  -64.181419\n",
       "2 -0.782923  0.395382  0.266205  1.197251 -0.807189  1.082074   16.739855\n",
       "3 -0.550071  0.602770  0.466315 -0.119904  1.301265  1.103736   72.583063\n",
       "4  0.454617 -0.004312  1.696612  0.037161  0.579574  1.335534  143.033364\n",
       "5 -0.452999  1.327192 -0.453387 -0.758962 -0.864646  0.499903   11.776926\n",
       "6 -1.163023  1.173077 -0.186156  0.538924 -1.393265 -0.317886   12.562676\n",
       "7 -0.739787  0.954446 -0.233732 -0.067609  0.302844  1.129508  -27.044676\n",
       "8  0.505565 -0.478507 -0.563205  0.258818  3.905243  0.194760  -33.723081\n",
       "9 -0.431044 -0.391637  0.629764  0.246015  1.964799 -0.637464    6.674853"
      ]
     },
     "execution_count": 14,
     "metadata": {},
     "output_type": "execute_result"
    }
   ],
   "source": [
    "df1 = pd.DataFrame(data=X,columns=['X'+str(i) for i in range(1,n_features+1)])\n",
    "df2=pd.DataFrame(data=y,columns=['y'])\n",
    "df=pd.concat([df1,df2],axis=1)\n",
    "df.head(10)"
   ]
  },
  {
   "cell_type": "code",
   "execution_count": 15,
   "metadata": {},
   "outputs": [],
   "source": [
    "from sklearn.tree import DecisionTreeClassifier,export_graphviz, ExtraTreeClassifier"
   ]
  },
  {
   "cell_type": "code",
   "execution_count": 53,
   "metadata": {},
   "outputs": [],
   "source": [
    "from sklearn.ensemble import RandomForestRegressor"
   ]
  },
  {
   "cell_type": "code",
   "execution_count": 49,
   "metadata": {},
   "outputs": [],
   "source": [
    "from sklearn import tree\n"
   ]
  },
  {
   "cell_type": "code",
   "execution_count": 50,
   "metadata": {},
   "outputs": [
    {
     "data": {
      "text/plain": [
       "DecisionTreeRegressor(criterion='mse', max_depth=5, max_features=None,\n",
       "           max_leaf_nodes=None, min_impurity_decrease=0.0,\n",
       "           min_impurity_split=None, min_samples_leaf=1,\n",
       "           min_samples_split=2, min_weight_fraction_leaf=0.0,\n",
       "           presort=False, random_state=None, splitter='best')"
      ]
     },
     "execution_count": 50,
     "metadata": {},
     "output_type": "execute_result"
    }
   ],
   "source": [
    "tree_model = tree.DecisionTreeRegressor(max_depth=5,random_state=None)\n",
    "tree_model.fit(X,y)"
   ]
  },
  {
   "cell_type": "code",
   "execution_count": 57,
   "metadata": {},
   "outputs": [
    {
     "name": "stdout",
     "output_type": "stream",
     "text": [
      "Relative importance of the features:  [0.01994889 0.20248057 0.73460265 0.00146105 0.00879545 0.03271139]\n"
     ]
    },
    {
     "data": {
      "image/png": "[encoded data removed]",
      "text/plain": [
       "<Figure size 720x504 with 1 Axes>"
      ]
     },
     "metadata": {},
     "output_type": "display_data"
    }
   ],
   "source": [
    "print(\"Relative importance of the features: \",tree_model.feature_importances_)\n",
    "with plt.style.context('dark_background'):\n",
    "    plt.figure(figsize=(10,7))\n",
    "    plt.grid(True)\n",
    "    plt.yticks(range(n_features+1,1,-1),df.columns[:-1],fontsize=20)\n",
    "    plt.xlabel(\"Relative (normalized) importance of parameters\",fontsize=15)\n",
    "    plt.ylabel(\"Features\\n\",fontsize=20)\n",
    "    plt.barh(range(n_features+1,1,-1),width=tree_model.feature_importances_,height=0.5)"
   ]
  },
  {
   "cell_type": "code",
   "execution_count": 51,
   "metadata": {},
   "outputs": [
    {
     "name": "stdout",
     "output_type": "stream",
     "text": [
      "Regression coefficient: 0.9668885014456812\n"
     ]
    }
   ],
   "source": [
    "print(\"Regression coefficient:\",tree_model.score(X,y)) ###decision tree"
   ]
  },
  {
   "cell_type": "code",
   "execution_count": null,
   "metadata": {},
   "outputs": [],
   "source": [
    "####random forest\n"
   ]
  },
  {
   "cell_type": "code",
   "execution_count": 54,
   "metadata": {},
   "outputs": [
    {
     "name": "stderr",
     "output_type": "stream",
     "text": [
      "C:\\Users\\aa\\Anaconda3\\lib\\site-packages\\ipykernel_launcher.py:2: DataConversionWarning: A column-vector y was passed when a 1d array was expected. Please change the shape of y to (n_samples,), for example using ravel().\n",
      "  \n"
     ]
    },
    {
     "data": {
      "text/plain": [
       "RandomForestRegressor(bootstrap=True, criterion='mse', max_depth=5,\n",
       "           max_features='auto', max_leaf_nodes=5,\n",
       "           min_impurity_decrease=0.0, min_impurity_split=None,\n",
       "           min_samples_leaf=1, min_samples_split=2,\n",
       "           min_weight_fraction_leaf=0.0, n_estimators=100, n_jobs=None,\n",
       "           oob_score=False, random_state=None, verbose=0, warm_start=False)"
      ]
     },
     "execution_count": 54,
     "metadata": {},
     "output_type": "execute_result"
    }
   ],
   "source": [
    "model = RandomForestRegressor(max_depth=5, random_state=None,max_features='auto',max_leaf_nodes=5,n_estimators=100)\n",
    "model.fit(X, y)"
   ]
  },
  {
   "cell_type": "code",
   "execution_count": 55,
   "metadata": {},
   "outputs": [
    {
     "name": "stdout",
     "output_type": "stream",
     "text": [
      "Relative importance of the features:  [0.00461142 0.16880244 0.821904   0.00162478 0.         0.00305736]\n"
     ]
    },
    {
     "data": {
      "image/png": "[encoded data removed]",
      "text/plain": [
       "<Figure size 720x504 with 1 Axes>"
      ]
     },
     "metadata": {},
     "output_type": "display_data"
    }
   ],
   "source": [
    "print(\"Relative importance of the features: \",model.feature_importances_)\n",
    "with plt.style.context('dark_background'):\n",
    "    plt.figure(figsize=(10,7))\n",
    "    plt.grid(True)\n",
    "    plt.yticks(range(n_features+1,1,-1),df.columns[:-1],fontsize=20)\n",
    "    plt.xlabel(\"Relative (normalized) importance of parameters\",fontsize=15)\n",
    "    plt.ylabel(\"Features\\n\",fontsize=20)\n",
    "    plt.barh(range(n_features+1,1,-1),width=model.feature_importances_,height=0.5)"
   ]
  },
  {
   "cell_type": "code",
   "execution_count": 56,
   "metadata": {},
   "outputs": [
    {
     "name": "stdout",
     "output_type": "stream",
     "text": [
      "Regression coefficient: 0.8447558161852907\n"
     ]
    }
   ],
   "source": [
    "print(\"Regression coefficient:\",model.score(X,y))"
   ]
  },
  {
   "cell_type": "code",
   "execution_count": null,
   "metadata": {},
   "outputs": [],
   "source": [
    "####linear regression\n"
   ]
  },
  {
   "cell_type": "code",
   "execution_count": 58,
   "metadata": {},
   "outputs": [],
   "source": [
    "from sklearn.linear_model import LinearRegression"
   ]
  },
  {
   "cell_type": "code",
   "execution_count": 60,
   "metadata": {},
   "outputs": [],
   "source": [
    "regressor=LinearRegression()"
   ]
  },
  {
   "cell_type": "code",
   "execution_count": 62,
   "metadata": {},
   "outputs": [],
   "source": [
    "w=df[['X1','X2','X3','X4','X5','X6']]"
   ]
  },
  {
   "cell_type": "code",
   "execution_count": 64,
   "metadata": {},
   "outputs": [],
   "source": [
    "z=df[['y']]"
   ]
  },
  {
   "cell_type": "code",
   "execution_count": 73,
   "metadata": {},
   "outputs": [],
   "source": [
    "x_train,x_test,y_train,y_test=train_test_split(w,z,test_size=0.2,random_state=0)"
   ]
  },
  {
   "cell_type": "code",
   "execution_count": 74,
   "metadata": {},
   "outputs": [
    {
     "data": {
      "text/plain": [
       "LinearRegression(copy_X=True, fit_intercept=True, n_jobs=None,\n",
       "         normalize=False)"
      ]
     },
     "execution_count": 74,
     "metadata": {},
     "output_type": "execute_result"
    }
   ],
   "source": [
    "regressor.fit(x_train,y_train)"
   ]
  },
  {
   "cell_type": "code",
   "execution_count": 75,
   "metadata": {},
   "outputs": [
    {
     "data": {
      "text/plain": [
       "0.9395805780871642"
      ]
     },
     "execution_count": 75,
     "metadata": {},
     "output_type": "execute_result"
    }
   ],
   "source": [
    "regressor.score(x,y)"
   ]
  }
 ],
 "metadata": {
  "kernelspec": {
   "display_name": "Python 3",
   "language": "python",
   "name": "python3"
  },
  "language_info": {
   "codemirror_mode": {
    "name": "ipython",
    "version": 3
   },
   "file_extension": ".py",
   "mimetype": "text/x-python",
   "name": "python",
   "nbconvert_exporter": "python",
   "pygments_lexer": "ipython3",
   "version": "3.7.3"
  }
 },
 "nbformat": 4,
 "nbformat_minor": 2
}
